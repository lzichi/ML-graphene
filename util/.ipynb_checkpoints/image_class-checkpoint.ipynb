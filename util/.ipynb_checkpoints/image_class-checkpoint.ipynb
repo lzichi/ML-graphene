{
 "cells": [
  {
   "cell_type": "markdown",
   "metadata": {},
   "source": [
    "# By hand classification of images"
   ]
  },
  {
   "cell_type": "code",
   "execution_count": null,
   "metadata": {},
   "outputs": [],
   "source": [
    "import numpy as np\n",
    "import pandas as pd\n",
    "import csv \n",
    "import cv2\n",
    "import matplotlib.pyplot as plt\n",
    "\n",
    "import os\n",
    "from os import listdir\n",
    "\n",
    "rootdir = r'/Users/laurazichi/Dropbox/Summer 2020 Machine Learning Project/Pictures/Indexed Images -- MoSe2 Only 4'"
   ]
  },
  {
   "cell_type": "code",
   "execution_count": null,
   "metadata": {},
   "outputs": [],
   "source": [
    "## Make DataFrame of images and their paths ##\n",
    "\n",
    "images_path = []\n",
    "images_name = []\n",
    "materials = []\n",
    "magnification = []\n",
    "\n",
    "#for loop to go through folders of images and add a row for each data instance\n",
    "for subdir, dirs, files in os.walk(rootdir):\n",
    "    for file in files:\n",
    "        images_name.append(file)\n",
    "        images_path.append(os.path.join(subdir,file))\n",
    "        mag = file.split('x')[0].split('-')[-1]\n",
    "        magnification.append(mag)\n",
    "        mat = os.path.join(subdir,file).split(\"x-\")[-1].split(\".\")[0]\n",
    "        materials.append(mat)\n",
    "\n",
    "            \n",
    "data = {'photo_name': images_name,\n",
    "       'path': images_path,\n",
    "        'magnification': magnification,\n",
    "       'materials': materials}\n",
    "\n",
    "df = pd.DataFrame.from_dict(data)"
   ]
  },
  {
   "cell_type": "code",
   "execution_count": null,
   "metadata": {},
   "outputs": [],
   "source": [
    "## Create Classification Array ##\n",
    "# Flake = 1\n",
    "# NoFlake = 0\n",
    "#[1,2,3,4,5,6,7,8,9,10]\n",
    "[0,1,1,0,1,0,0,0,0,0]\n",
    "[1,1,1,1,0,0,0,0,1,1]\n",
    "[1,0,0,1,1,1,0,1,1,0]\n",
    "[1,1,0,0,0,0,1,1,0,0]\n",
    "[1,1,0,1,1,0,0,1,1,1]\n",
    "[1,1,0,0,1,0,1,1,1,1]\n",
    "[0,0,0,0,1,1,1,1,1,0]\n",
    "[1,1,0,0,1,0,1,1,1,0]\n",
    "[0,1,1,1,0,0,0,1,1,0]\n",
    "[0,1,1,1,0,1,1,0,1,0]\n",
    "[0,0,0,1,1,1,1,0,0,1]\n",
    "[1,1,1,1,1,0,0,1,0,0]\n",
    "[1,1,1,0,1,0,0,1,0,0]\n",
    "[0,0,1,0,0,0,1,0,0,0]\n",
    "[0,1,0,0,1,1,0,0,0,1]\n",
    "[1,1,1,0,0,1,0,1,1,0]\n",
    "[0,0,0,1,1,0,0,1,1,0]\n",
    "[1,0,1,1,0,1,0,0,0,1]\n",
    "[1,1,1,0,1,1,0,0,1,0]\n",
    "[1,0,0,1,1,1,1,0,0,1]\n",
    "[1,1,0,1,0,1,0,0,1,0]\n",
    "[1,0,1,1,0,1,1,1,1,1]\n",
    "[1,0,1,0,1,1,1,0,0,1]\n",
    "[0,0,1,1,0,0,0,1,0,0]\n",
    "[1,0,0,0,1,0,1,1,1,1]\n",
    "[0,1,1,0,0,0,1,0,1,0]\n",
    "[1,1,1,1,1,1,0,1,1,1]\n",
    "[1,1,0,0,0,0,1,0,1,0]\n",
    "[1,0,1,0,0,0,0,1,0,0]\n",
    "[1,1,1,0,1,0,1,1,1,1]\n",
    "[1,1,0,1,1,0,1,1,1,0]\n",
    "[0,0,1,0,1,1,1,1,0,1]\n",
    "[1,1,1,0,1,0,1,0,1,0]\n",
    "[1,1]\n",
    "\n",
    "arr = [0,1,1,0,1,0,0,0,0,0,1,1,1,1,0,0,0,0,1,1,1,0,0,1,1,1,0,1,1,0,1,1,0,0,0,0,1,1,0,0,1,1,0,1,1,0,0,1,1,1,1,1,0,0,1,0,1,1,1,1,0,0,0,0,1,1,1,1,1,0,1,1,0,0,1,0,1,1,1,0,0,1,1,1,0,0,0,1,1,0,0,1,1,1,0,1,1,0,1,0,0,0,0,1,1,1,1,0,0,1,1,1,1,1,1,0,0,1,0,0,1,1,1,0,1,0,0,1,0,0,0,0,1,0,0,0,1,0,0,0,0,1,0,0,1,1,0,0,0,1,1,1,1,0,0,1,0,1,1,0,0,0,0,1,1,0,0,1,1,0,1,0,1,1,0,1,0,0,0,1,1,1,1,0,1,1,0,0,1,0,1,0,0,1,1,1,1,0,0,1,1,1,0,1,0,1,0,0,1,0,1,0,1,1,0,1,1,1,1,1,1,0,1,0,1,1,1,0,0,1,0,0,1,1,0,0,0,1,0,0,1,0,0,0,1,0,1,1,1,1,0,1,1,0,0,0,1,0,1,0,1,1,1,1,1,1,0,1,1,1,1,1,0,0,0,0,1,0,1,0,1,0,1,0,0,0,0,1,0,0,1,1,1,0,1,0,1,1,1,1,1,1,0,1,1,0,1,1,1,0,0,0,1,0,1,1,1,1,0,1,1,1,1,0,1,0,1,0,1,0,1,1]"
   ]
  },
  {
   "cell_type": "code",
   "execution_count": null,
   "metadata": {},
   "outputs": [],
   "source": [
    "## Print images in order to classifiy them ##\n",
    "count = 1\n",
    "for path in df['path']:\n",
    "    print(\"path: \", path)\n",
    "    print(\"image number: \", count)\n",
    "    image = cv2.imread(path)\n",
    "    RGB_image = cv2.cvtColor(image, cv2.COLOR_BGR2RGB)\n",
    "    plt.imshow(RGB_image)   \n",
    "    plt.show()\n",
    "    count = count + 1\n",
    "    "
   ]
  },
  {
   "cell_type": "code",
   "execution_count": null,
   "metadata": {},
   "outputs": [],
   "source": [
    "# 0 - no Flake\n",
    "# 1 - has Flake \n",
    "df['has_flake'] = arr\n",
    "df.to_pickle('df_correct.pkl')"
   ]
  }
 ],
 "metadata": {
  "kernelspec": {
   "display_name": "Python 3",
   "language": "python",
   "name": "python3"
  },
  "language_info": {
   "codemirror_mode": {
    "name": "ipython",
    "version": 3
   },
   "file_extension": ".py",
   "mimetype": "text/x-python",
   "name": "python",
   "nbconvert_exporter": "python",
   "pygments_lexer": "ipython3",
   "version": "3.7.4"
  }
 },
 "nbformat": 4,
 "nbformat_minor": 2
}
